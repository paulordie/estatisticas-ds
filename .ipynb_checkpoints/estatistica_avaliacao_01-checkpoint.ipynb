{
 "cells": [
  {
   "cell_type": "code",
   "execution_count": 20,
   "metadata": {
    "id": "xAXbuF23LiAP"
   },
   "outputs": [],
   "source": [
    "import numpy as np\n",
    "import statistics as st\n",
    "import seaborn as sns\n",
    "from scipy import stats\n",
    "from collections import Counter\n",
    "import matplotlib as plt"
   ]
  },
  {
   "cell_type": "code",
   "execution_count": 21,
   "metadata": {
    "id": "SGtnky_oLqb4"
   },
   "outputs": [],
   "source": [
    "paris_saint_germain = [9,10,12,13,14,14,16,18,23,37]\n",
    "real_madri = [7,9,9,9,10,11,12,12,15,15]"
   ]
  },
  {
   "cell_type": "code",
   "execution_count": 25,
   "metadata": {},
   "outputs": [
    {
     "name": "stdout",
     "output_type": "stream",
     "text": [
      "Média paris_saint_germain:  16.6\n",
      "Média real_madri:  10.9\n"
     ]
    }
   ],
   "source": [
    "# Médias\n",
    "print('Média paris_saint_germain: ', st.mean(paris_saint_germain))\n",
    "print('Média real_madri: ', st.mean(real_madri))"
   ]
  },
  {
   "cell_type": "code",
   "execution_count": 26,
   "metadata": {},
   "outputs": [
    {
     "name": "stdout",
     "output_type": "stream",
     "text": [
      "Mediana paris_saint_germain:  14.0\n",
      "Mediana real_madri:  10.5\n"
     ]
    }
   ],
   "source": [
    "# Mediana\n",
    "print('Mediana paris_saint_germain: ', st.median(paris_saint_germain))\n",
    "print('Mediana real_madri: ', st.median(real_madri))"
   ]
  },
  {
   "cell_type": "code",
   "execution_count": 15,
   "metadata": {},
   "outputs": [],
   "source": [
    "# Moda\n",
    "# print('Moda A: ', st.multimode(paris_saint_germain))\n",
    "# print('Moda B: ', st.mode(real_madri))"
   ]
  },
  {
   "cell_type": "code",
   "execution_count": 16,
   "metadata": {},
   "outputs": [
    {
     "name": "stdout",
     "output_type": "stream",
     "text": [
      "Variancia paris_saint_germain:  60.84\n",
      "Desvio paris_saint_germain:  7.8\n",
      "\n",
      "\n",
      "\n",
      "Variancia real_madri:  6.29\n",
      "Desvio real_madri:  2.51\n"
     ]
    }
   ],
   "source": [
    "# Variancia\n",
    "print('Variancia paris_saint_germain: ', round(st.pvariance(paris_saint_germain),2))\n",
    "print('Desvio paris_saint_germain: ', round(st.pstdev(paris_saint_germain),2))\n",
    "print('\\n\\n')\n",
    "print('Variancia real_madri: ', round(st.pvariance(real_madri),2))\n",
    "print('Desvio real_madri: ', round(st.pstdev(real_madri),2))"
   ]
  },
  {
   "cell_type": "code",
   "execution_count": 22,
   "metadata": {},
   "outputs": [
    {
     "data": {
      "text/plain": [
       "<matplotlib.axes._subplots.AxesSubplot at 0x7f9da3807d50>"
      ]
     },
     "execution_count": 22,
     "metadata": {},
     "output_type": "execute_result"
    },
    {
     "data": {
      "image/png": "[encoded data removed]",
      "text/plain": [
       "<Figure size 432x288 with 1 Axes>"
      ]
     },
     "metadata": {
      "needs_background": "light"
     },
     "output_type": "display_data"
    }
   ],
   "source": [
    "sns.boxplot(paris_saint_germain)"
   ]
  },
  {
   "cell_type": "code",
   "execution_count": 24,
   "metadata": {},
   "outputs": [
    {
     "data": {
      "text/plain": [
       "<matplotlib.axes._subplots.AxesSubplot at 0x7f9da3bd0a50>"
      ]
     },
     "execution_count": 24,
     "metadata": {},
     "output_type": "execute_result"
    },
    {
     "data": {
      "image/png": "[encoded data removed]",
      "text/plain": [
       "<Figure size 432x288 with 1 Axes>"
      ]
     },
     "metadata": {
      "needs_background": "light"
     },
     "output_type": "display_data"
    }
   ],
   "source": [
    "sns.boxplot(real_madri)"
   ]
  },
  {
   "cell_type": "code",
   "execution_count": null,
   "metadata": {},
   "outputs": [],
   "source": []
  }
 ],
 "metadata": {
  "colab": {
   "name": "estatistica-avaliacao-01.ipynb",
   "provenance": []
  },
  "kernelspec": {
   "display_name": "Python 3",
   "language": "python",
   "name": "python3"
  },
  "language_info": {
   "codemirror_mode": {
    "name": "ipython",
    "version": 3
   },
   "file_extension": ".py",
   "mimetype": "text/x-python",
   "name": "python",
   "nbconvert_exporter": "python",
   "pygments_lexer": "ipython3",
   "version": "3.7.6"
  }
 },
 "nbformat": 4,
 "nbformat_minor": 4
}
